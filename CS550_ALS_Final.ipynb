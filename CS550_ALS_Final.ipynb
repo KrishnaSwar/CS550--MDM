{
  "nbformat": 4,
  "nbformat_minor": 0,
  "metadata": {
    "colab": {
      "name": "CS550_ALS_Final.ipynb",
      "provenance": [],
      "collapsed_sections": []
    },
    "kernelspec": {
      "name": "python3",
      "display_name": "Python 3"
    },
    "language_info": {
      "name": "python"
    }
  },
  "cells": [
    {
      "cell_type": "code",
      "source": [
        "import pandas as pd\n",
        "from pyspark.sql import functions as F\n",
        "from pyspark.sql import DataFrameNaFunctions as DFna\n",
        "from pyspark.sql.functions import udf, col, when\n",
        "import matplotlib.pyplot as plt\n",
        "import pyspark as ps\n",
        "import os, sys, requests, json\n",
        "\n",
        "from pyspark.ml.evaluation import RegressionEvaluator\n",
        "from pyspark.ml.recommendation import ALS\n",
        "from pyspark.ml.tuning import CrossValidator, ParamGridBuilder\n",
        "from pyspark.ml import Pipeline\n",
        "from pyspark.sql import Row\n",
        "import numpy as np\n",
        "import math"
      ],
      "metadata": {
        "id": "sFu3vSFPK11a"
      },
      "execution_count": 1,
      "outputs": []
    },
    {
      "cell_type": "code",
      "source": [
        "spark = ps.sql.SparkSession.builder \\\n",
        "            .master(\"local[4]\") \\\n",
        "            .appName(\"building recommender\") \\\n",
        "            .getOrCreate() # create a spark session\n",
        "            \n",
        "sc = spark.sparkContext "
      ],
      "metadata": {
        "id": "M-c-cKiXKw3b"
      },
      "execution_count": 1,
      "outputs": []
    },
    {
      "cell_type": "code",
      "source": [
        "movies = spark.read.csv('movies.csv', header=True, quote='\"', sep=\",\", inferSchema=True)\n",
        "train_data = spark.read.csv('train.csv', header=True, quote='\"', sep=\",\", inferSchema=True)\n",
        "test_data = spark.read.csv('test.csv', header=True, quote='\"', sep=\",\", inferSchema=True)"
      ],
      "metadata": {
        "id": "syR1dPu0K8Q2"
      },
      "execution_count": 1,
      "outputs": []
    },
    {
      "cell_type": "code",
      "source": [
        "als_model = ALS(maxIter=num_iter, regParam=reg_param, rank=rank, userCol=\"userId\", itemCol=\"movieId\", ratingCol=\"rating\")\n",
        "als_model1 = als.fit(train_data)\n",
        "pred = als_model1.transform(test_data)"
      ],
      "metadata": {
        "id": "ta2UvJ70LA8m"
      },
      "execution_count": 6,
      "outputs": []
    },
    {
      "cell_type": "code",
      "source": [
        "pred_cvals = pred.filter(col('prediction') != np.nan)\n",
        "print(pred_cvals.count())"
      ],
      "metadata": {
        "colab": {
          "base_uri": "https://localhost:8080/"
        },
        "id": "TYohcYiTLsFR",
        "outputId": "bc3c4c7a-cba1-479f-9d10-2f46714a77cb"
      },
      "execution_count": 7,
      "outputs": [
        {
          "output_type": "stream",
          "name": "stdout",
          "text": [
            "199987\n"
          ]
        }
      ]
    },
    {
      "cell_type": "code",
      "source": [
        "eval = RegressionEvaluator(metricName=\"rmse\", labelCol=\"rating\", predictionCol=\"prediction\")\n",
        "rmse_val = eval.evaluate(pred_cvals)\n",
        "print(rmse_val)"
      ],
      "metadata": {
        "colab": {
          "base_uri": "https://localhost:8080/"
        },
        "id": "3o7TirZIMEzS",
        "outputId": "55e3c02e-45c8-4340-d48c-2062ccea0a9a"
      },
      "execution_count": 8,
      "outputs": [
        {
          "output_type": "stream",
          "name": "stdout",
          "text": [
            "0.6813346081445169\n"
          ]
        }
      ]
    },
    {
      "cell_type": "code",
      "source": [
        "df_predictions = pred.toPandas()\n",
        "\n",
        "mov_dat = pd.read_csv('movies.csv', usecols=[0,1])\n",
        "mov_dict = pd.Series(mov_dat['title'].values,index=mov_dat['movieId']).to_dict()\n",
        "users_list = df_predictions['userId'].unique().tolist()\n",
        "\n",
        "df_predictions['predicted_movies'] = df_predictions.apply(lambda x: (x['movieId'], x['prediction']), axis=1)\n",
        "pred_rec_df = df_predictions[['userId', 'predicted_movies']].groupby('userId')['predicted_movies'].apply(list).reset_index(name='recommendation')\n",
        "pred_rec_df['recommendation'] = pred_rec_df['recommendation'].apply(lambda x: sorted(x, key=lambda tup: tup[1], reverse=True))\n",
        "sorted_recs_dict = pd.Series(pred_rec_df['recommendation'].values,index=pred_rec_df['userId']).to_dict()\n",
        "\n",
        "test_df = pd.read_csv('test.csv')\n",
        "pred_df_t = test_df[['userId', 'movieId', 'rating']]\n",
        "pred_df_t['predicted_movies'] = pred_df_t.apply(lambda x: (x['movieId'], x['rating']), axis=1)\n",
        "pred_rec_df_t = pred_df_t[['userId', 'predicted_movies']].groupby('userId')['predicted_movies'].apply(list).reset_index(name='recommendation')\n",
        "pred_rec_df_t['recommendation'] = pred_rec_df_t['recommendation'].apply(lambda x: sorted(x, key=lambda tup: tup[1], reverse=True))\n",
        "recs_dict = pd.Series(pred_rec_df_t['recommendation'].values,index=pred_rec_df_t['userId']).to_dict()"
      ],
      "metadata": {
        "id": "0Jq1c0LsL2zw"
      },
      "execution_count": null,
      "outputs": []
    },
    {
      "cell_type": "code",
      "source": [
        "def helper(user, n, p):\n",
        "    if p==True:\n",
        "        n_recs = recs_dict[user][:n]\n",
        "    else:\n",
        "        n_recs = recs_dict[user][:n]\n",
        "    return [mov_dict[int(x[0])] for x in n_recs]"
      ],
      "metadata": {
        "id": "Kp8zEBczMdoH"
      },
      "execution_count": 8,
      "outputs": []
    },
    {
      "cell_type": "code",
      "source": [
        "tp = 0\n",
        "fp = 0\n",
        "fn = 0\n",
        "for user in users_list:\n",
        "    preds1 = helper(user=user,n=10,p=True)\n",
        "    rats1 = helper(user=user,n=10,p=False)\n",
        "    tp = tp + len(list(set(preds1) & set(rats1)))\n",
        "    fp = fp + len(list(set(preds1) - set(rats1)))\n",
        "    fn = fn + len(list(set(rats1) - set(preds1)))\n",
        "    \n",
        "precision = tp/float(fp+tp)\n",
        "recall = tp/float(fn+tp)\n",
        "fscore = (2*precision*recall)/(precision+recall)\n",
        "\n",
        "print(precision,recall, fscore)"
      ],
      "metadata": {
        "colab": {
          "base_uri": "https://localhost:8080/"
        },
        "id": "-Py1OvY0MfM3",
        "outputId": "9acd0028-aade-4bc6-a99d-c22a85273107"
      },
      "execution_count": 9,
      "outputs": [
        {
          "output_type": "stream",
          "name": "stdout",
          "text": [
            "0.6516847726017309 0.6516847726017309 0.6516847726017309\n"
          ]
        }
      ]
    }
  ]
}