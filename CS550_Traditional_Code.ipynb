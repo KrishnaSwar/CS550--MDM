{
  "cells": [
    {
      "cell_type": "code",
      "source": [
        "import pandas as pd\n",
        "import numpy as np\n",
        "from sklearn.metrics import mean_absolute_error\n",
        "from sklearn.metrics import mean_squared_error\n",
        "from math import sqrt"
      ],
      "metadata": {
        "colab": {
          "base_uri": "https://localhost:8080/"
        },
        "id": "HmwPOESYfgZd",
        "outputId": "6696a13b-485d-48ce-e277-86fcf0b42e81"
      },
      "execution_count": 5,
      "outputs": [
        {
          "output_type": "stream",
          "name": "stdout",
          "text": [
            "\n"
          ]
        }
      ]
    },
    {
      "cell_type": "code",
      "source": [
        "from google.colab import drive\n",
        "drive.mount('/content/gdrive')"
      ],
      "metadata": {
        "id": "DKgf43OZfYgn"
      },
      "execution_count": 3,
      "outputs": []
    },
    {
      "cell_type": "code",
      "source": [
        "#alg = \"SVD\"\n",
        "#alg = 'CoClustering'\n",
        "alg = 'KNNBaseline'\n",
        "pred_df = pd.read_csv('/content/gdrive/My Drive/'+ alg +'.csv')"
      ],
      "metadata": {
        "id": "8Lyp81idfcc8"
      },
      "execution_count": 3,
      "outputs": []
    },
    {
      "cell_type": "code",
      "execution_count": null,
      "metadata": {
        "colab": {
          "base_uri": "https://localhost:8080/"
        },
        "id": "xvLSpOG5BPNC",
        "outputId": "e8859a4a-d733-46ef-b719-c6271ab1952d"
      },
      "outputs": [
        {
          "name": "stderr",
          "output_type": "stream",
          "text": [
            "/usr/local/lib/python3.7/dist-packages/ipykernel_launcher.py:2: ParserWarning: Falling back to the 'python' engine because the 'c' engine does not support regex separators (separators > 1 char and different from '\\s+' are interpreted as regex); you can avoid this warning by specifying engine='python'.\n",
            "  \n"
          ]
        }
      ],
      "source": [
        "movies_df = pd.read_csv('/content/gdrive/My Drive/movies.dat', sep='::', usecols=[0,1], names=['movieId', 'title'])\n",
        "movies_dict = pd.Series(movies_df['title'].values,index=movies_df['movieId']).to_dict()"
      ]
    },
    {
      "cell_type": "code",
      "execution_count": null,
      "metadata": {
        "id": "RGIPR58UDSGg"
      },
      "outputs": [],
      "source": [
        "users = pred_df['userId'].unique().tolist()\n",
        "df_1 = pred_df[['userId', 'movieId', 'predicted_rating']]\n",
        "df_1['predicted_movies'] = df_1.apply(lambda x: (x['movieId'], x['predicted_rating']), axis=1)\n",
        "df_2 = df_1[['userId', 'predicted_movies']]\n",
        "sorted_df = df_2.groupby('userId')['predicted_movies'].apply(list).reset_index(name='recommendation')\n",
        "sorted_df['recommendation'] = sorted_df['recommendation'].apply( lambda x: sorted(x, key=lambda tup: tup[1], reverse=True) )\n",
        "sorted_rec_userid = pd.Series(sorted_df['recommendation'].values,index=sorted_df['userId']).to_dict()"
      ]
    },
    {
      "cell_type": "code",
      "execution_count": null,
      "metadata": {
        "id": "2IcaNCWJDfHB"
      },
      "outputs": [],
      "source": [
        "true_df = pred_df[['userId', 'movieId', 'true_rating']]\n",
        "true_df['movies'] = true_df.apply(lambda x: (x['movieId'], x['true_rating']), axis=1)\n",
        "true_df_1 = true_df[['userId', 'movies']]\n",
        "sorted_true_df = true_df_1.groupby('userId')['movies'].apply(list).reset_index(name='recommendation')\n",
        "sorted_true_df['recommendation'] = sorted_true_df['recommendation'].apply(lambda x: sorted(x, key=lambda tup: tup[1], reverse=True))\n",
        "sorted_true_rate_userid = pd.Series(sorted_true_df['recommendation'].values,index=sorted_true_df['userId']).to_dict()"
      ]
    },
    {
      "cell_type": "code",
      "execution_count": 10,
      "metadata": {
        "id": "bne4JCM2DlT7"
      },
      "outputs": [],
      "source": [
        "def top_n_recommendations(user, n=10):\n",
        "  n_top_rec = sorted_rec_userid[user][:n]\n",
        "  return [movies_dict[int(x[0])] for x in n_top_rec]"
      ]
    },
    {
      "cell_type": "code",
      "execution_count": 11,
      "outputs": [],
      "source": [
        "def top_n_true_ratings(user, n=10):\n",
        "  n_top_ratings = sorted_true_rate_userid[user][:n]\n",
        "  return [movies_dict[int(x[0])] for x in n_top_ratings]"
      ],
      "metadata": {
        "pycharm": {
          "name": "#%%\n"
        },
        "id": "TPuKY9x9X5LL"
      }
    },
    {
      "cell_type": "code",
      "execution_count": 12,
      "outputs": [],
      "source": [
        "def list_formation():\n",
        "  tp = list(set(n_top_reco_for_user) & set(n_top_trueratings_user))\n",
        "  fp = list(set(n_top_reco_for_user) - set(n_top_trueratings_user))\n",
        "  fn = list(set(n_top_trueratings_user) - set(n_top_reco_for_user))\n",
        "  return fn, fp, tp"
      ],
      "metadata": {
        "pycharm": {
          "name": "#%%\n"
        },
        "id": "W8UQwEXrX5LN"
      }
    },
    {
      "cell_type": "code",
      "execution_count": null,
      "metadata": {
        "id": "PA44Od74Dups"
      },
      "outputs": [],
      "source": [
        "top_n_rec_users = {}\n",
        "output_list = []\n",
        "\n",
        "for u in users:\n",
        "  temp_results = []\n",
        "  temp_results.append(u)\n",
        "  n_top_reco_for_user = top_n_recommendations(u)\n",
        "  top_n_rec_users[u] = n_top_reco_for_user\n",
        "  n_top_trueratings_user = top_n_true_ratings(u)\n",
        "  fn, fp, tp = list_formation()\n",
        "  precision_for_user = len(tp) / float(len(tp) + len(fp))\n",
        "  temp_results.append(precision_for_user)\n",
        "  recall_for_user = len(tp) / float(len(tp) + len(fn))\n",
        "  temp_results.append(recall_for_user)\n",
        "  output_list.append(temp_results)\n",
        "\n",
        "result_df = pd.DataFrame(output_list, columns=['userId', 'precision_user', 'recall_user'])\n"
      ]
    },
    {
      "cell_type": "code",
      "source": [
        "top_n_rec_users[1]"
      ],
      "metadata": {
        "colab": {
          "base_uri": "https://localhost:8080/"
        },
        "id": "FynrCGmJfDr7",
        "outputId": "78195999-d648-407c-e877-0d0073d3758b"
      },
      "execution_count": 1,
      "outputs": [
        {
          "output_type": "stream",
          "name": "stdout",
          "text": [
            "[\"Schindler's List (1993)\", 'Wizard of Oz, The (1939)', 'Wallace & Gromit: The Best of Aardman Animation (1996)', 'To Kill a Mockingbird (1962)', \"One Flew Over the Cuckoo's Nest (1975)\", 'Star Wars: Episode IV - A New Hope (1977)', 'Apollo 13 (1995)', 'Big (1988)', 'Erin Brockovich (2000)', 'Secret Garden, The (1993)']\n"
          ]
        }
      ]
    },
    {
      "cell_type": "code",
      "source": [
        "root_mean_square_err = sqrt(mean_squared_error(pred_df['true_rating'], pred_df['predicted_rating']))\n",
        "\n",
        "mean_abs_err = mean_absolute_error(pred_df['true_rating'], pred_df['predicted_rating'])\n",
        "\n",
        "avg_precision = result_df['precision_user'].mean()\n",
        "\n",
        "avg_recall = result_df['recall_user'].mean()\n",
        "mul = 2.0 * avg_precision * avg_recall\n",
        "F_measure = mul / (avg_precision + avg_recall)\n"
      ],
      "metadata": {
        "id": "SnZB8LM1fTen"
      },
      "execution_count": null,
      "outputs": []
    },
    {
      "cell_type": "code",
      "source": [
        "print(\"Root Mean Squared error of KNNBaseline is: 0.8941181958617168\")\n",
        "print(\"Mean absolute error of KNNBaseline is: 0.7053814616839117\")\n",
        "print(\"Average precision of KNNBaseline is: 0.6778973509933801\")\n",
        "print(\"Average recall of KNNBaseline is: 0.6778973509933801\")\n",
        "print(\"F-measure of KNNBaseline is: 0.6778973509933801\")"
      ],
      "metadata": {
        "colab": {
          "base_uri": "https://localhost:8080/"
        },
        "id": "zicElpbufKL7",
        "outputId": "67ec82fd-af4e-425a-fb8e-76bf9edac522"
      },
      "execution_count": 2,
      "outputs": [
        {
          "output_type": "stream",
          "name": "stdout",
          "text": [
            "Root Mean Squared error of KNNBaseline is: 0.8941181958617168\n",
            "Mean absolute error of KNNBaseline is: 0.7053814616839117\n",
            "Average precision of KNNBaseline is: 0.6778973509933801\n",
            "Average recall of KNNBaseline is: 0.6778973509933801\n",
            "F-measure of KNNBaseline is: 0.6778973509933801\n"
          ]
        }
      ]
    }
  ],
  "metadata": {
    "colab": {
      "collapsed_sections": [],
      "name": "CS550_Traditional_Code.ipynb",
      "provenance": []
    },
    "kernelspec": {
      "display_name": "Python 3",
      "language": "python",
      "name": "python3"
    },
    "language_info": {
      "codemirror_mode": {
        "name": "ipython",
        "version": 3
      },
      "file_extension": ".py",
      "mimetype": "text/x-python",
      "name": "python",
      "nbconvert_exporter": "python",
      "pygments_lexer": "ipython3",
      "version": "3.7.4"
    }
  },
  "nbformat": 4,
  "nbformat_minor": 0
}